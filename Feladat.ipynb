{
 "cells": [
  {
   "cell_type": "code",
   "execution_count": 1,
   "id": "4de0d0a9",
   "metadata": {},
   "outputs": [],
   "source": [
    "def check(target, source):\n",
    "    \n",
    "    target = [*target]\n",
    "    \n",
    "    sv_target = []\n",
    "    \n",
    "    for letter in target:\n",
    "        sv_target.append(letter)\n",
    "    \n",
    "    possible_rot = []\n",
    "\n",
    "    for i in range(len(source)):\n",
    "        possible_rot.append(source[i:] + source[:i])\n",
    "    \n",
    "    every_sub_string = []\n",
    "\n",
    "    for item in possible_rot:\n",
    "        for x in range(len(item)-len(target)+1):\n",
    "            \n",
    "            every_sub_string.append(item[x:])\n",
    "    \n",
    "    sub_len = []\n",
    "    \n",
    "\n",
    "    for item in every_sub_string:\n",
    "        for letter in [*item]:\n",
    "            if letter in target:\n",
    "                target.remove(letter)\n",
    "\n",
    "        \n",
    "        if target == []:\n",
    "            sub_len.append(len(item))\n",
    "            target.extend([*sv_target])\n",
    "        else:\n",
    "            target = []\n",
    "            target.extend([*sv_target])\n",
    "            \n",
    "    \n",
    "    if sub_len == []:\n",
    "        return -1\n",
    "    else:\n",
    "        return min(sub_len)"
   ]
  },
  {
   "cell_type": "code",
   "execution_count": 2,
   "id": "eb8fd78a",
   "metadata": {},
   "outputs": [
    {
     "data": {
      "text/plain": [
       "4"
      ]
     },
     "execution_count": 2,
     "metadata": {},
     "output_type": "execute_result"
    }
   ],
   "source": [
    "check('krr', 'hackerrank')"
   ]
  },
  {
   "cell_type": "code",
   "execution_count": null,
   "id": "bf1a269d",
   "metadata": {},
   "outputs": [],
   "source": []
  }
 ],
 "metadata": {
  "kernelspec": {
   "display_name": "Python 3 (ipykernel)",
   "language": "python",
   "name": "python3"
  },
  "language_info": {
   "codemirror_mode": {
    "name": "ipython",
    "version": 3
   },
   "file_extension": ".py",
   "mimetype": "text/x-python",
   "name": "python",
   "nbconvert_exporter": "python",
   "pygments_lexer": "ipython3",
   "version": "3.9.12"
  }
 },
 "nbformat": 4,
 "nbformat_minor": 5
}
