{
 "cells": [
  {
   "cell_type": "markdown",
   "id": "d814dbfe",
   "metadata": {},
   "source": [
    "## *Problem 1*"
   ]
  },
  {
   "cell_type": "code",
   "execution_count": 89,
   "id": "73828c68",
   "metadata": {},
   "outputs": [],
   "source": [
    "def lin_solver(sl):\n",
    "    \n",
    "    s_sum = int((sl[0]+sl[1]+sl[2])/2)\n",
    "    a = s_sum - sl[1]\n",
    "    b = s_sum - sl[2]\n",
    "    c = s_sum - sl[0]\n",
    "    \n",
    "    return a,b,c"
   ]
  },
  {
   "cell_type": "code",
   "execution_count": 90,
   "id": "2f9f66c6",
   "metadata": {},
   "outputs": [
    {
     "data": {
      "text/plain": [
       "(1, 2, 3)"
      ]
     },
     "execution_count": 90,
     "metadata": {},
     "output_type": "execute_result"
    }
   ],
   "source": [
    "lin_solver([3,5,4])"
   ]
  },
  {
   "cell_type": "markdown",
   "id": "13856138",
   "metadata": {},
   "source": [
    "## *Problem 2*"
   ]
  },
  {
   "cell_type": "code",
   "execution_count": 87,
   "id": "83412753",
   "metadata": {},
   "outputs": [],
   "source": [
    "import re\n",
    "import collections\n",
    "\n",
    "def betterCompression(s):\n",
    "\n",
    "    split_list = re.findall(r'\\w\\d+', s)\n",
    "\n",
    "    word_dic = {}\n",
    "\n",
    "    for item in split_list:\n",
    "        check_keys = list(word_dic.keys())\n",
    "        if item[0] not in check_keys:\n",
    "            word_dic[item[0]] = int(item[1:])\n",
    "        else:\n",
    "            word_dic[item[0]] += int(item[1:])\n",
    "\n",
    "    word_dic = collections.OrderedDict(sorted(word_dic.items()))\n",
    "\n",
    "    final_string = ''\n",
    "\n",
    "    for key in word_dic:\n",
    "        final_string += key + str(word_dic[key]) \n",
    "\n",
    "    return final_string"
   ]
  },
  {
   "cell_type": "code",
   "execution_count": 88,
   "id": "fec64be4",
   "metadata": {},
   "outputs": [
    {
     "data": {
      "text/plain": [
       "'a6b23c19d6f9h8k5r6'"
      ]
     },
     "execution_count": 88,
     "metadata": {},
     "output_type": "execute_result"
    }
   ],
   "source": [
    "betterCompression('b23a6f9r6c7h8c5d6k5c7')"
   ]
  },
  {
   "cell_type": "markdown",
   "id": "dfc6566c",
   "metadata": {},
   "source": [
    "## *Problem 3* Under construction..."
   ]
  },
  {
   "cell_type": "code",
   "execution_count": 24,
   "id": "9842101e",
   "metadata": {},
   "outputs": [],
   "source": [
    "def letter_counter(s):\n",
    "    \n",
    "    s = [*s]\n",
    "    \n",
    "    letter_dic = {}\n",
    "\n",
    "    for item in s:\n",
    "        if item not in list(letter_dic.keys()):\n",
    "            letter_dic[item] = s.count(item)\n",
    "\n",
    "    return letter_dic"
   ]
  },
  {
   "cell_type": "code",
   "execution_count": 85,
   "id": "381bb898",
   "metadata": {},
   "outputs": [],
   "source": [
    "def word_puzzle(target, source):\n",
    "    \n",
    "    target_dic = letter_counter(target)\n",
    "    \n",
    "    circulate_source = []\n",
    "    \n",
    "    sub_strings = []\n",
    "    \n",
    "    for i in range(len(source)):\n",
    "        circulate_source.append(source[i:]+source[:i])\n",
    "    \n",
    "    for item in circulate_source:\n",
    "        for x in range(len(target)+1):\n",
    "            print(item[x:])\n",
    "            solve_dic = letter_counter(item[x:])\n",
    "            print(solve_dic)\n",
    "            if (target_dic.items() <= solve_dic.items()) or (target_dic == solve_dic):\n",
    "                sub_strings.append(item[x:])\n",
    "                \n",
    "    return sub_strings"
   ]
  }
 ],
 "metadata": {
  "kernelspec": {
   "display_name": "Python 3 (ipykernel)",
   "language": "python",
   "name": "python3"
  },
  "language_info": {
   "codemirror_mode": {
    "name": "ipython",
    "version": 3
   },
   "file_extension": ".py",
   "mimetype": "text/x-python",
   "name": "python",
   "nbconvert_exporter": "python",
   "pygments_lexer": "ipython3",
   "version": "3.9.12"
  }
 },
 "nbformat": 4,
 "nbformat_minor": 5
}
