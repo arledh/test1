{
 "cells": [
  {
   "cell_type": "markdown",
   "id": "540db8c3",
   "metadata": {},
   "source": [
    "# First milestone"
   ]
  },
  {
   "cell_type": "markdown",
   "id": "19125ec5",
   "metadata": {},
   "source": [
    "# Welcome"
   ]
  },
  {
   "cell_type": "code",
   "execution_count": 15,
   "id": "e325bdb2",
   "metadata": {},
   "outputs": [],
   "source": [
    "def welcome():\n",
    "    print(\"Welcome to Tick - Tack - Toe\")"
   ]
  },
  {
   "cell_type": "markdown",
   "id": "a864dc45",
   "metadata": {},
   "source": [
    "# Display"
   ]
  },
  {
   "cell_type": "code",
   "execution_count": 3,
   "id": "09447d89",
   "metadata": {},
   "outputs": [
    {
     "name": "stdout",
     "output_type": "stream",
     "text": [
      "   |   |   \n"
     ]
    }
   ],
   "source": [
    "print(\"   |   |   \")"
   ]
  },
  {
   "cell_type": "code",
   "execution_count": 6,
   "id": "65dfc784",
   "metadata": {},
   "outputs": [],
   "source": [
    "mylist = [\" \", \"|\", \" \", \"|\", \" \"]"
   ]
  },
  {
   "cell_type": "code",
   "execution_count": 7,
   "id": "a7e9b653",
   "metadata": {},
   "outputs": [
    {
     "name": "stdout",
     "output_type": "stream",
     "text": [
      " | | \n"
     ]
    }
   ],
   "source": [
    "print(\"\".join(mylist))"
   ]
  },
  {
   "cell_type": "code",
   "execution_count": 8,
   "id": "a33ce8ca",
   "metadata": {},
   "outputs": [],
   "source": [
    "mylist[0] = \"O\""
   ]
  },
  {
   "cell_type": "code",
   "execution_count": 9,
   "id": "497a5eac",
   "metadata": {},
   "outputs": [
    {
     "name": "stdout",
     "output_type": "stream",
     "text": [
      "O| | \n"
     ]
    }
   ],
   "source": [
    "print(\"\".join(mylist))"
   ]
  },
  {
   "cell_type": "code",
   "execution_count": 12,
   "id": "4bc9bf1f",
   "metadata": {},
   "outputs": [
    {
     "name": "stdout",
     "output_type": "stream",
     "text": [
      " | | \n",
      "-----\n",
      " | | \n",
      "-----\n",
      " | | \n"
     ]
    }
   ],
   "source": [
    "print(\" | | \")\n",
    "print(\"-----\")\n",
    "print(\" | | \")\n",
    "print(\"-----\")\n",
    "print(\" | | \")"
   ]
  },
  {
   "cell_type": "code",
   "execution_count": 16,
   "id": "cf01a82d",
   "metadata": {},
   "outputs": [],
   "source": [
    "game_table = [\"#\", \" \", \" \", \" \", \" \", \" \", \" \", \" \", \" \", \" \"]\n",
    "\n",
    "\n",
    "def display(game_table):\n",
    "    \n",
    "    print(game_table[7] + \"|\" + game_table[8] + \"|\" + game_table[9])\n",
    "    print(\"-----\")\n",
    "    print(game_table[4] + \"|\" + game_table[5] + \"|\" + game_table[6])\n",
    "    print(\"-----\")\n",
    "    print(game_table[1] + \"|\" + game_table[2] + \"|\" + game_table[3])"
   ]
  },
  {
   "cell_type": "code",
   "execution_count": 40,
   "id": "813fcd83",
   "metadata": {},
   "outputs": [
    {
     "name": "stdout",
     "output_type": "stream",
     "text": [
      " | | \n",
      "-----\n",
      " | | \n",
      "-----\n",
      " | | \n"
     ]
    }
   ],
   "source": [
    "display(game_table)"
   ]
  },
  {
   "cell_type": "markdown",
   "id": "88235849",
   "metadata": {},
   "source": [
    "# X or O"
   ]
  },
  {
   "cell_type": "code",
   "execution_count": 17,
   "id": "5f4360a8",
   "metadata": {},
   "outputs": [],
   "source": [
    "def x_or_o():\n",
    "    \n",
    "    player_decision = \"default\"\n",
    "    \n",
    "    while player_decision not in [\"X\", \"O\"]:\n",
    "        \n",
    "        player_decision = input(\"Do you want to play as X or O? (Please type X or O)\").upper()\n",
    "        \n",
    "        if player_decision not in [\"X\", \"O\"]:\n",
    "            \n",
    "            print(\"Choose between X or O!\")\n",
    "    \n",
    "    print(f\"You will play as {player_decision}!\")\n",
    "    print(\"X starts the game.\")\n",
    "    return player_decision"
   ]
  },
  {
   "cell_type": "code",
   "execution_count": 21,
   "id": "a8907ae7",
   "metadata": {},
   "outputs": [
    {
     "name": "stdout",
     "output_type": "stream",
     "text": [
      "Do you want to play as X or O? (Please type X or O)cica\n",
      "Choose between X or O!\n",
      "Do you want to play as X or O? (Please type X or O)o\n",
      "You will be play as O\n"
     ]
    },
    {
     "data": {
      "text/plain": [
       "'O'"
      ]
     },
     "execution_count": 21,
     "metadata": {},
     "output_type": "execute_result"
    }
   ],
   "source": [
    "x_or_o()"
   ]
  },
  {
   "cell_type": "markdown",
   "id": "81e81960",
   "metadata": {},
   "source": [
    "# Players index"
   ]
  },
  {
   "cell_type": "code",
   "execution_count": 18,
   "id": "d6f91e63",
   "metadata": {},
   "outputs": [],
   "source": [
    "def player_index():\n",
    "    \n",
    "    the_index = \"default\"\n",
    "    \n",
    "    in_range = False\n",
    "    \n",
    "    while the_index.isdigit() == False or in_range == False:\n",
    "        \n",
    "        the_index = input(\"Where do you want to take your mark? (1-9) \")\n",
    "        \n",
    "        if the_index.isdigit() == False:\n",
    "            \n",
    "            print(\"Please enter a digit!\")\n",
    "        \n",
    "        if the_index.isdigit() == True:\n",
    "            \n",
    "            if int(the_index) in range(1,10):\n",
    "                in_range = True\n",
    "            else:\n",
    "                in_range = False\n",
    "            \n",
    "                print(\"Please enter a digit between 1 and 9!\")\n",
    "                print(int(the_index))\n",
    "    \n",
    "    return int(the_index)"
   ]
  },
  {
   "cell_type": "code",
   "execution_count": 37,
   "id": "78a9f186",
   "metadata": {},
   "outputs": [
    {
     "name": "stdout",
     "output_type": "stream",
     "text": [
      "Where do you want to take your mark? (1-9) nine\n",
      "Please enter a digit!\n",
      "Where do you want to take your mark? (1-9) 11\n",
      "Please enter a digit between 1 and 9!\n",
      "11\n",
      "Where do you want to take your mark? (1-9) cica\n",
      "Please enter a digit!\n",
      "Where do you want to take your mark? (1-9) 4\n"
     ]
    },
    {
     "data": {
      "text/plain": [
       "4"
      ]
     },
     "execution_count": 37,
     "metadata": {},
     "output_type": "execute_result"
    }
   ],
   "source": [
    "player_index()"
   ]
  },
  {
   "cell_type": "markdown",
   "id": "cdad168a",
   "metadata": {},
   "source": [
    "# Players move"
   ]
  },
  {
   "cell_type": "code",
   "execution_count": 53,
   "id": "234ed1d8",
   "metadata": {},
   "outputs": [
    {
     "name": "stdout",
     "output_type": "stream",
     "text": [
      "X|O|O\n",
      "-----\n",
      "O|X|X\n",
      "-----\n",
      "X|X|O\n"
     ]
    }
   ],
   "source": [
    "from IPython.display import clear_output\n",
    "welcome()\n",
    "\n",
    "game_table = [\"#\", \" \", \" \", \" \", \" \", \" \", \" \", \" \", \" \", \" \"]\n",
    "\n",
    "\n",
    "x_or_o()\n",
    "\n",
    "    \n",
    "    \n",
    "    \n",
    "winning1 = [\"X\", \"X\", \"X\"]\n",
    "winning2 = [\"O\", \"O\", \"O\"]\n",
    "steps = 1\n",
    "    \n",
    "\n",
    "while steps < 10:\n",
    "\n",
    "#Player number 1\n",
    "\n",
    "    display(game_table)\n",
    "\n",
    "    print(\"\\nX turn\")\n",
    "\n",
    "    position1 = player_index()    \n",
    "        \n",
    "    game_table[position1] = \"X\"\n",
    "        \n",
    "    steps += 1\n",
    "        \n",
    "    check1 = game_table[1:4]\n",
    "    check2 = game_table[4:7]\n",
    "    check3 = game_table[7:10]\n",
    "    check4 = [game_table[1], game_table[4], game_table[7]]\n",
    "    check5 = [game_table[2], game_table[5], game_table[8]]\n",
    "    check6 = [game_table[3], game_table[6], game_table[9]]\n",
    "    check7 = [game_table[1], game_table[5], game_table[9]]\n",
    "    check8 = [game_table[3], game_table[5], game_table[7]]\n",
    "     \n",
    "    clear_output()   \n",
    "    display(game_table)\n",
    "        \n",
    "    if check1 == winning1:\n",
    "        break\n",
    "            \n",
    "    elif check2 == winning1:\n",
    "        break\n",
    "        \n",
    "    elif check3 == winning1:\n",
    "        break\n",
    "            \n",
    "    elif check4 == winning1:\n",
    "        break\n",
    "            \n",
    "    elif check5 == winning1:\n",
    "        break\n",
    "            \n",
    "    elif check6 == winning1:\n",
    "        break\n",
    "            \n",
    "    elif check7 == winning1:\n",
    "        break\n",
    "            \n",
    "    elif check8 == winning1:\n",
    "        break\n",
    "    \n",
    "    elif \" \" not in game_table:\n",
    "        break\n",
    "    \n",
    "    else:\n",
    "        pass\n",
    "            \n",
    "#Player number 2\n",
    "\n",
    "    \n",
    "\n",
    "    print(\"\\nO turn\")\n",
    "    \n",
    "    position2 = player_index()   \n",
    "        \n",
    "    game_table[position2] = \"O\"\n",
    "        \n",
    "    steps += 1\n",
    "        \n",
    "    check1 = game_table[1:4]\n",
    "    check2 = game_table[4:7]\n",
    "    check3 = game_table[7:10]\n",
    "    check4 = [game_table[1], game_table[4], game_table[7]]\n",
    "    check5 = [game_table[2], game_table[5], game_table[8]]\n",
    "    check6 = [game_table[3], game_table[6], game_table[9]]\n",
    "    check7 = [game_table[1], game_table[5], game_table[9]]\n",
    "    check8 = [game_table[3], game_table[5], game_table[7]]\n",
    "        \n",
    "    clear_output()\n",
    "    display(game_table)\n",
    "        \n",
    "    if check1 == winning2:\n",
    "        break\n",
    "            \n",
    "    elif check2 == winning2:\n",
    "        break\n",
    "        \n",
    "    elif check3 == winning2:\n",
    "        break\n",
    "            \n",
    "    elif check4 == winning2:\n",
    "        break\n",
    "            \n",
    "    elif check5 == winning2:\n",
    "        break\n",
    "            \n",
    "    elif check6 == winning2:\n",
    "        break\n",
    "            \n",
    "    elif check7 == winning2:\n",
    "        break\n",
    "            \n",
    "    elif check8 == winning2:\n",
    "        break\n",
    "    \n",
    "    elif \" \" not in game_table:\n",
    "        break\n",
    "    \n",
    "    else:\n",
    "        pass\n",
    "    \n",
    "    clear_output()\n",
    "        \n",
    "        \n"
   ]
  },
  {
   "cell_type": "code",
   "execution_count": null,
   "id": "515d5307",
   "metadata": {},
   "outputs": [],
   "source": []
  }
 ],
 "metadata": {
  "kernelspec": {
   "display_name": "Python 3 (ipykernel)",
   "language": "python",
   "name": "python3"
  },
  "language_info": {
   "codemirror_mode": {
    "name": "ipython",
    "version": 3
   },
   "file_extension": ".py",
   "mimetype": "text/x-python",
   "name": "python",
   "nbconvert_exporter": "python",
   "pygments_lexer": "ipython3",
   "version": "3.9.12"
  }
 },
 "nbformat": 4,
 "nbformat_minor": 5
}
